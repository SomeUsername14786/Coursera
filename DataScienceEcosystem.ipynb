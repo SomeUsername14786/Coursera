{
 "cells": [
  {
   "attachments": {},
   "cell_type": "markdown",
   "id": "b46df03f",
   "metadata": {},
   "source": [
    "# Data Science Tools and Ecosystem"
   ]
  },
  {
   "attachments": {},
   "cell_type": "markdown",
   "id": "e6d8d6cd",
   "metadata": {},
   "source": [
    "In this notebook, Data Science Tools and Ecosystem are summarized."
   ]
  },
  {
   "attachments": {},
   "cell_type": "markdown",
   "id": "6bfce77f",
   "metadata": {},
   "source": [
    "**Objectives:**\n",
    "- List popular languages for Data Science\n",
    "- List popular libraries for Data Science\n",
    "- List popular tools for Data Science\n",
    "- Give examples of arithmetic expressions in Python\n"
   ]
  },
  {
   "attachments": {},
   "cell_type": "markdown",
   "id": "5ef81afd",
   "metadata": {},
   "source": [
    "Some of the popular languages that Data Scientists use are:\n",
    "1. Julia\n",
    "1. Python\n",
    "1. R"
   ]
  },
  {
   "attachments": {},
   "cell_type": "markdown",
   "id": "f1abb094",
   "metadata": {},
   "source": [
    "Some of the commonly used libraries used by Data Scientists include:\n",
    "1. TensorFlow\n",
    "1. NumPy\n",
    "1. SciPy"
   ]
  },
  {
   "attachments": {},
   "cell_type": "markdown",
   "id": "9874e617",
   "metadata": {},
   "source": [
    "| Data Science Tools |\n",
    "| --- |\n",
    "| WatsonStudio |\n",
    "| Jupyter Notebook |\n",
    "| RStudio |\n"
   ]
  },
  {
   "attachments": {},
   "cell_type": "markdown",
   "id": "4da5be5d",
   "metadata": {},
   "source": [
    "### Below are a few examples of evaluating arithmetic expressions in Python"
   ]
  },
  {
   "cell_type": "code",
   "execution_count": 2,
   "id": "e6de305a",
   "metadata": {},
   "outputs": [
    {
     "data": {
      "text/plain": [
       "17"
      ]
     },
     "execution_count": 2,
     "metadata": {},
     "output_type": "execute_result"
    }
   ],
   "source": [
    "# This a simple arithmetic expression to mutiply then add integers\n",
    "(3*4)+5"
   ]
  },
  {
   "cell_type": "code",
   "execution_count": 6,
   "id": "795d243e",
   "metadata": {},
   "outputs": [
    {
     "name": "stdout",
     "output_type": "stream",
     "text": [
      "200 minutes are: 3.33 hours\n"
     ]
    }
   ],
   "source": [
    "# this will convert minutes to hours by diving by 60\n",
    "def minutes_to_hours(minutes):\n",
    "    return minutes / 60\n",
    "\n",
    "print(\"200 minutes are: %.2f hours\" % minutes_to_hours(200))"
   ]
  },
  {
   "attachments": {},
   "cell_type": "markdown",
   "id": "b610fc63",
   "metadata": {},
   "source": [
    "## Author\n",
    "Roman Adamski"
   ]
  }
 ],
 "metadata": {
  "kernelspec": {
   "display_name": "Python 3 (ipykernel)",
   "language": "python",
   "name": "python3"
  },
  "language_info": {
   "codemirror_mode": {
    "name": "ipython",
    "version": 3
   },
   "file_extension": ".py",
   "mimetype": "text/x-python",
   "name": "python",
   "nbconvert_exporter": "python",
   "pygments_lexer": "ipython3",
   "version": "3.10.6"
  }
 },
 "nbformat": 4,
 "nbformat_minor": 5
}
